{
 "cells": [
  {
   "cell_type": "markdown",
   "source": [],
   "metadata": {
    "collapsed": false
   }
  },
  {
   "cell_type": "markdown",
   "source": [
    "## Load packages"
   ],
   "metadata": {
    "collapsed": false
   }
  },
  {
   "cell_type": "code",
   "execution_count": null,
   "outputs": [],
   "source": [
    "import numpy as np\n",
    "import pandas as pd\n",
    "import matplotlib.pyplot as plt\n",
    "import seaborn as sns\n",
    "import missingno as msno\n",
    "import squarify\n",
    "\n",
    "import plotly.offline as py\n",
    "py.init_notebook_mode(connected=True)\n",
    "import plotly.graph_objs as go\n",
    "from sklearn.metrics import mean_squared_error\n",
    "\n",
    "%matplotlib inline\n",
    "plt.style.use('ggplot')"
   ],
   "metadata": {
    "collapsed": false,
    "pycharm": {
     "name": "#%%\n"
    }
   }
  },
  {
   "cell_type": "markdown",
   "source": [
    "## Read data "
   ],
   "metadata": {
    "collapsed": false
   }
  },
  {
   "cell_type": "code",
   "execution_count": null,
   "outputs": [],
   "source": [
    "#path ='file/'\n",
    "path = './'\n",
    "state_ts = pd.read_csv(path+'State_time_series565.csv',parse_dates=['Date'])"
   ],
   "metadata": {
    "collapsed": false,
    "pycharm": {
     "name": "#%%\n"
    }
   }
  },
  {
   "cell_type": "markdown",
   "source": [
    "## Missing value"
   ],
   "metadata": {
    "collapsed": false
   }
  },
  
  {
   "cell_type": "code",
   "execution_count": null,
   "outputs": [],
   "source": [
    "# Analysis\n",
    "print('Date range:{} to {}'.format(state_ts['Date'].min(),state_ts['Date'].max()))"
   ],
   "metadata": {
    "collapsed": false,
    "pycharm": {
     "name": "#%%\n"
    }
   }
  },
  {
   "cell_type": "markdown",
   "source": [
    "## Resample\n",
    "\n",
    "The whole data set is resampled considering month start by mean. We can also resample data by sum,count etc, but resampling by mean will give better result. The sample of data availble for total 257 months."
   ],
   "metadata": {
    "collapsed": false
   }
  },
  {
   "cell_type": "code",
   "execution_count": null,
   "outputs": [],
   "source": [
    "state_month = state_ts.resample('MS').mean()\n",
    "state_month = state_month.reset_index()\n",
    "state_month.shape\n",
    "\n",
    "\n"
   ],
   "metadata": {
    "collapsed": false,
    "pycharm": {
     "name": "#%%\n"
    }
   }
  },
  {
   "cell_type": "markdown",
   "source": [
    "\n",
    "## ARIMA : Auto Regressor Integrated Moving Average\n"
   ],
   "metadata": {
    "collapsed": false
   }
  },
  {
   "cell_type": "code",
   "execution_count": null,
   "outputs": [],
   "source": [
    "from statsmodels.tsa.stattools import adfuller,acf,pacf\n",
    "from statsmodels.tsa.arima_model import ARIMA\n",
    "from statsmodels.tsa.seasonal import seasonal_decompose\n",
    "from pandas.plotting import autocorrelation_plot"
   ],
   "metadata": {
    "collapsed": false,
    "pycharm": {
     "name": "#%%\n"
    }
   }
  },
  {
   "cell_type": "markdown",
   "source": [
    "***\n",
    "* Convert date column to type datetime[ns] by using pandas built in fuction\n"
   ],
   "metadata": {
    "collapsed": false
   }
  },
  {
   "cell_type": "code",
   "execution_count": null,
   "outputs": [],
   "source": [
    "#state_ts['Date'] = pd.datetime(state_ts['Date'])\n",
    "state_ts = state_ts.set_index('Date')\n",
    "ts = state_ts['Sold_Price']\n",
    "ts.head()"
   ],
   "metadata": {
    "collapsed": false,
    "pycharm": {
     "name": "#%%\n"
    }
   }
  },
  {
   "cell_type": "markdown",
   "source": [
    "***\n",
    "## Stationary Time series property \n",
    "\n",
    "* Time series data is time dependent, sample are taken on constant time interval. We have taken data on every month end.\n",
    "* Time series will have some form of seasonality trend.\n",
    "* If time series is stationary will have statistical property such as mean,variance are remains constant over time.\n",
    "* The covariance of i the term and i+m term should not be a function of time\n",
    "\n",
    "[Sold Price ](#Sold-Price) plot using plolty is above. "
   ],
   "metadata": {
    "collapsed": false
   }
  },
  {
   "cell_type": "code",
   "execution_count": null,
   "outputs": [],
   "source": [
    "plt.figure(figsize=(14,4))\n",
    "ts.plot()"
   ],
   "metadata": {
    "collapsed": false,
    "pycharm": {
     "name": "#%%\n"
    }
   }
  },
  {
   "cell_type": "code",
   "execution_count": null,
   "outputs": [],
   "source": [
    "# Resample data by monthly\n",
    "plt.figure(figsize=(14,4))\n",
    "ts = ts.resample('M').mean()\n",
    "ts.plot()"
   ],
   "metadata": {
    "collapsed": false,
    "pycharm": {
     "name": "#%%\n"
    }
   }
  },
  {
   "cell_type": "code",
   "execution_count": null,
   "outputs": [],
   "source": [
    "# forward fill for nan values\n",
    "ts = ts.ffill()"
   ],
   "metadata": {
    "collapsed": false,
    "pycharm": {
     "name": "#%%\n"
    }
   }
  },
  {
   "cell_type": "markdown",
   "source": [
    "## Check Stationarity\n",
    "* Plotting rolling statistics: we can plot moving average and moving variance \n",
    "* Dickey Fuller test: It is statistical test to check stationarity,\n",
    "    1. Null Hypothesis H0: Time series is non stationary\n",
    "    2. Altenate Hypothesis H1: If test statics < critical value reject H0 "
   ],
   "metadata": {
    "collapsed": false
   }
  },
  {
   "cell_type": "code",
   "execution_count": null,
   "outputs": [],
   "source": [
    "def test_stationarity(timeseries):\n",
    "    \n",
    "    #rolling statics\n",
    "    rol_mean = timeseries.rolling(window = 12).mean()\n",
    "    rol_std = timeseries.rolling(window = 12).std()\n",
    "    \n",
    "    #plot rolling statistics\n",
    "    plt.figure(figsize=(14,4))\n",
    "    plt.plot(ts, color = 'b', label = 'Original')\n",
    "    plt.plot(rol_mean, color = 'r', label = 'Rolling Mean')\n",
    "    plt.plot(rol_std, color = 'g', label = 'Rolling Std')\n",
    "    plt.legend(loc='best')\n",
    "    \n",
    "    # Dickey fuller test\n",
    "    print('Perfom Dickey fuller test')\n",
    "    dftest = adfuller(timeseries, autolag='AIC')\n",
    "    dfoutput = pd.Series(dftest[0:4], index=['Test Statistic','p-value','#Lags Used','Number of Observations Used'])\n",
    "    for key,value in dftest[4].items():\n",
    "        dfoutput['Critical Value (%s)'%key] = value\n",
    "    print(dfoutput)\n",
    "    \n",
    "test_stationarity(ts)"
   ],
   "metadata": {
    "collapsed": false,
    "pycharm": {
     "name": "#%%\n"
    }
   }
  },
  {
   "cell_type": "markdown",
   "source": [
    "The rolling mean is increasing continualy, so time series is non stationary\n",
    "In time series test statistics > critacal value of %5, so time series is non stationary."
   ],
   "metadata": {
    "collapsed": false
   }
  },
  {
   "cell_type": "code",
   "execution_count": null,
   "outputs": [],
   "source": [
    "fig,ax = plt.subplots(1,2,figsize=(14,5))\n",
    "ax1, ax2 = ax.flatten()\n",
    "\n",
    "ts_log = np.log(ts)\n",
    "ts_log.plot(ax=ax1, label = 'Log',color = 'r')\n",
    "ax1.legend(loc = 'best')\n",
    "\n",
    "ts_ma = ts_log.rolling(12).mean()\n",
    "ts_ma.plot(ax = ax2, label = 'mean')\n",
    "ax2.legend(loc = 'best')\n"
   ],
   "metadata": {
    "collapsed": false,
    "pycharm": {
     "name": "#%%\n"
    }
   }
  },
  {
   "cell_type": "code",
   "execution_count": null,
   "outputs": [],
   "source": [
    "plt.figure(figsize=(14,4))\n",
    "ts_dif = ts_ma - ts_log\n",
    "ts_dif = ts_dif.dropna() # fill na\n",
    "ts_dif.plot()\n"
   ],
   "metadata": {
    "collapsed": false,
    "pycharm": {
     "name": "#%%\n"
    }
   }
  },
  {
   "cell_type": "code",
   "execution_count": null,
   "outputs": [],
   "source": [
    "test_stationarity(ts_dif)"
   ],
   "metadata": {
    "collapsed": false,
    "pycharm": {
     "name": "#%%\n"
    }
   }
  },
  {
   "cell_type": "markdown",
   "source": [
    "## Eliminating Trend and seasonality\n",
    "1. Differencing: taking difference with perticualar time lag\n",
    "2. Decomposing: Modelling both trend and seasonality and removing them from the model"
   ],
   "metadata": {
    "collapsed": false
   }
  },
  {
   "cell_type": "code",
   "execution_count": null,
   "outputs": [],
   "source": [
    "# Differencing\n",
    "ts_log_dif = ts_log - ts_log.shift()\n",
    "plt.figure(figsize=(14,4))\n",
    "ts_log_dif.plot()"
   ],
   "metadata": {
    "collapsed": false,
    "pycharm": {
     "name": "#%%\n"
    }
   }
  },
  {
   "cell_type": "code",
   "execution_count": null,
   "outputs": [],
   "source": [
    "ts_log_dif.dropna(inplace = True)\n",
    "test_stationarity(ts_log_dif)"
   ],
   "metadata": {
    "collapsed": false,
    "pycharm": {
     "name": "#%%\n"
    }
   }
  },
  {
   "cell_type": "code",
   "execution_count": null,
   "outputs": [],
   "source": [
    "# Decomposing\n",
    "docom = seasonal_decompose(ts_dif)\n",
    "fig,ax = plt.subplots(3,1,figsize=(14,8))\n",
    "ax\n",
    "ax[0].plot(docom.resid,label = 'Residual', color = 'r')\n",
    "ax[0].legend(loc= 'best')\n",
    "ax[1].plot(docom.seasonal, label = 'Seasonal', color = 'b')\n",
    "ax[1].legend(loc = 'best')\n",
    "ax[2].plot(docom.trend,  label = 'Trend', color = 'b')\n",
    "ax[2].legend(loc = 'best')"
   ],
   "metadata": {
    "collapsed": false,
    "pycharm": {
     "name": "#%%\n"
    }
   }
  },
  {
   "cell_type": "code",
   "execution_count": null,
   "outputs": [],
   "source": [
    "test_stationarity(docom.resid.dropna())"
   ],
   "metadata": {
    "collapsed": false,
    "pycharm": {
     "name": "#%%\n"
    }
   }
  },
  {
   "cell_type": "markdown",
   "source": [
    "test statistics < critical value & p-value is 0.002\n",
    "we are getting constant mean and standard deviation.\n",
    "***\n",
    "## Forcasting time series using ARIMA\n",
    "\n",
    "The ARIMA forcasting for stationary time series is nothing but linear equation(like linear regression). The predictor depend on (p, d, q) of Arima model.\n",
    "\n",
    "Time series linear equation: x(t) = alpha*x(t-1)*error(t) \n",
    "* **ARIMA: Auto Regressor Integrated Moving Average**\n",
    "    1. Number of AR (Auto regressor) term **(p)**: AR term is lag of dependent variable. If p is 3 then predictor for x(t) will be x(t-1)..x(t-3)\n",
    "    2. Number of MA (Moving Average) term **(q)**: MA term is lag of forcast error of predictor equation. If q is 3 then error for x(t) will be e(t-1)..e(t-3)\n",
    "    3. Number of Differences **(d)**: The number of times that the raw observations are differenced, also called the degree of differencing.\n",
    "    \n",
    "\n",
    "* To determine p and q we will use two plots\n",
    "    1. Auto Correlation Function **ACF**: It is a measure of correlation between TS and lagged of TS (q)\n",
    "    2. Partial Auto Correlation Function **PACF**: This measures the correlation between the TS with a lagged version of itself but after eliminating the variations already explained by the intervening comparisons.(p)"
   ],
   "metadata": {
    "collapsed": false
   }
  },
  {
   "cell_type": "code",
   "execution_count": null,
   "outputs": [],
   "source": [
    "# ACF\n",
    "lag_acf = acf(ts_dif,nlags=20)\n",
    "#PACF\n",
    "lag_pacf = pacf(ts_dif, nlags=20, method='ols')"
   ],
   "metadata": {
    "collapsed": false,
    "pycharm": {
     "name": "#%%\n"
    }
   }
  },
  {
   "cell_type": "code",
   "execution_count": null,
   "outputs": [],
   "source": [
    "fig,ax = plt.subplots(1,2, figsize=(14,4))\n",
    "ax1, ax2 = ax.flatten()\n",
    "ax1.plot(lag_acf)\n",
    "ax1.axhline(y=0,linestyle='--',color= 'gray')\n",
    "ax1.axhline(y= - 1.96/np.sqrt(len(ts_dif)), linestyle='--',color= 'gray')\n",
    "ax1.axhline(y=  1.96/np.sqrt(len(ts_dif)), linestyle='--',color= 'gray')\n",
    "\n",
    "ax2.plot(lag_pacf,)\n",
    "ax2.axhline(y=0,linestyle = '--', color = 'gray')\n",
    "ax2.axhline(y = -1.96/np.sqrt(len(ts_dif)), linestyle = '--', color = 'gray')\n",
    "ax2.axhline(y = 1.96/np.sqrt(len(ts_dif)), linestyle = '--', color = 'gray')"
   ],
   "metadata": {
    "collapsed": false,
    "pycharm": {
     "name": "#%%\n"
    }
   }
  },
  {
   "cell_type": "markdown",
   "source": [
    "The dotted lines in confidence interval, this can be used to determine **p** and **q**.\n",
    "  * p: The lag value where the **PACF** chart crosses upper chart for first time.\n",
    "  * q: The lag value where **ACF** chart crosses upper chart for first time.\n",
    "Here p = 5, q = 1, order = (5,1,1)"
   ],
   "metadata": {
    "collapsed": false
   }
  },
  {
   "cell_type": "code",
   "execution_count": null,
   "outputs": [],
   "source": [
    "model = ARIMA(ts_dif, order = (5,1,1))\n",
    "model_fit = model.fit(disp=5)\n",
    "\n",
    "model_fit.save('model_fit.pkl')\n",
    "print(model_fit.summary())\n",
    "plt.figure(figsize=(14,4))\n",
    "plt.plot(ts_dif)\n",
    "plt.plot(model_fit.fittedvalues,color = 'r')"
   ],
   "metadata": {
    "collapsed": false,
    "pycharm": {
     "name": "#%%\n"
    }
   }
  },
  {
   "cell_type": "code",
   "execution_count": null,
   "outputs": [],
   "source": [],
   "metadata": {
    "collapsed": false,
    "pycharm": {
     "name": "#%%\n"
    }
   }
  },
  {
   "cell_type": "markdown",
   "source": [
    "## Grid search method"
   ],
   "metadata": {
    "collapsed": false
   }
  },
  {
   "cell_type": "code",
   "execution_count": null,
   "outputs": [],
   "source": [
    "#Evaluate arima model for (p,d,q)\n",
    "def evaluate_arima_model(X, arima_order):\n",
    "    # prepare training dataset\n",
    "    train_size = int(len(X) * 0.66)\n",
    "    train, test = X[0:train_size], X[train_size:]\n",
    "    history = [x for x in train]\n",
    "    # make predictions\n",
    "    predictions = list()\n",
    "    for t in range(len(test)):\n",
    "        model = ARIMA(history, order=arima_order)\n",
    "        model_fit = model.fit(disp=0)\n",
    "        yhat = model_fit.forecast()[0]\n",
    "        predictions.append(yhat)\n",
    "        history.append(test[t])\n",
    "    # calculate out of sample error\n",
    "    error = mean_squared_error(test, predictions)\n",
    "    return error"
   ],
   "metadata": {
    "collapsed": false,
    "pycharm": {
     "name": "#%%\n"
    }
   }
  },
  {
   "cell_type": "code",
   "execution_count": null,
   "outputs": [],
   "source": [
    "def evaluate_models(dataset, p_values, d_values, q_values):\n",
    "    dataset = dataset.astype('float32')\n",
    "    best_score, best_cfg = float(\"inf\"), None\n",
    "    for p in p_values:\n",
    "        for d in d_values:\n",
    "            for q in q_values:\n",
    "                order = (p,d,q)\n",
    "                try:\n",
    "                    mse = evaluate_arima_model(dataset, order)\n",
    "                    if mse < best_score:\n",
    "                        best_score, best_cfg = mse, order\n",
    "                    print('ARIMA%s MSE=%.3f' % (order,mse))\n",
    "                except:\n",
    "                    continue\n",
    "    print('Best ARIMA%s MSE=%.3f' % (best_cfg, best_score))"
   ],
   "metadata": {
    "collapsed": false,
    "pycharm": {
     "name": "#%%\n"
    }
   }
  },
  {
   "cell_type": "code",
   "execution_count": null,
   "outputs": [],
   "source": [
    "# Evaluate parameter\n",
    "p_value = range(0,2)\n",
    "d_value = range(0,2)\n",
    "q_value = range(0,2)\n",
    "evaluate_models(ts,p_value,d_value,q_value,) "
   ],
   "metadata": {
    "collapsed": false,
    "pycharm": {
     "name": "#%%\n"
    }
   }
  },
  {
   "cell_type": "markdown",
   "source": [],
   "metadata": {
    "collapsed": false
   }
  }
 ],
 "metadata": {
  "kernelspec": {
   "display_name": "Python 3",
   "language": "python",
   "name": "python3"
  },
  "language_info": {
   "codemirror_mode": {
    "name": "ipython",
    "version": 3
   },
   "file_extension": ".py",
   "mimetype": "text/x-python",
   "name": "python",
   "nbconvert_exporter": "python",
   "pygments_lexer": "ipython3",
   "version": "3.6.8"
  },
  "pycharm": {
   "stem_cell": {
    "cell_type": "raw",
    "source": [],
    "metadata": {
     "collapsed": false
    }
   }
  }
 },
 "nbformat": 4,
 "nbformat_minor": 1
}